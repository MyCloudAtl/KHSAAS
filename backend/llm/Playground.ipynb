{
 "cells": [
  {
   "cell_type": "code",
   "execution_count": 3,
   "metadata": {},
   "outputs": [
    {
     "name": "stdout",
     "output_type": "stream",
     "text": [
      "requests==2.32.3\n",
      "requests-toolbelt==1.0.0\n"
     ]
    }
   ],
   "source": [
    "!pip freeze | grep requests"
   ]
  },
  {
   "cell_type": "code",
   "execution_count": 4,
   "metadata": {},
   "outputs": [],
   "source": [
    "BASE = \"http://localhost:5055\"\n",
    "\n",
    "SOFTWARE_LIST= \"/api/softwares\"\n",
    "SOFTWARE_VERSIONS = \"/get_versions\"\n",
    "SOFTWARE_DEPENDENCIES=\"/api/dependencies\" #Params: name, version\n",
    "SOFTWARE_SBOM=\"/api/sbom\" #POST: name, version\n",
    "SOFTWARE_VULNERABILITES=\"/api/vulnerabilities\"\n"
   ]
  },
  {
   "cell_type": "code",
   "execution_count": 5,
   "metadata": {},
   "outputs": [
    {
     "name": "stdout",
     "output_type": "stream",
     "text": [
      "[]\n",
      "\n",
      "\"{\\\"software\\\": \\\"aws-sdk-cpp\\\", \\\"version\\\": \\\"1.11.117\\\", \\\"dependencies\\\": [\\\"https://w3id.org/secure-chain/SoftwareVersion/threads#%2A\\\", \\\"https://w3id.org/secure-chain/SoftwareVersion/zlib#%2A\\\", \\\"https://w3id.org/secure-chain/SoftwareVersion/openssl#%2A\\\", \\\"https://w3id.org/secure-chain/SoftwareVersion/project#%2A\\\", \\\"https://w3id.org/secure-chain/SoftwareVersion/testing-resources#%2A\\\", \\\"https://w3id.org/secure-chain/SoftwareVersion/git#%2A\\\", \\\"https://w3id.org/secure-chain/SoftwareVersion/c#2\\\", \\\"https://w3id.org/secure-chain/SoftwareVersion/crypto#%2A\\\", \\\"https://w3id.org/secure-chain/SoftwareVersion/aws#%2A\\\", \\\"https://w3id.org/secure-chain/SoftwareVersion/android#%2A\\\", \\\"https://w3id.org/secure-chain/SoftwareVersion/aws-cpp-sdk-petstore#%2A\\\", \\\"https://w3id.org/secure-chain/SoftwareVersion/%24%7Btarget%7D#%2A\\\", \\\"https://w3id.org/secure-chain/SoftwareVersion/cmake_android_ndk_toolchain#%2A\\\", \\\"https://w3id.org/secure-chain/SoftwareVersion/pythoninterp#%2A\\\", \\\"https://w3id.org/secure-chain/SoftwareVersion/awssdk#%2A\\\", \\\"https://w3id.org/secure-chain/SoftwareVersion/deps#%2A\\\", \\\"https://w3id.org/secure-chain/SoftwareVersion/aws-crt-cpp#cf0a346249c384329a902a29cb473b108fb204ba\\\"], \\\"vulnerabilities\\\": []}\"\n",
      "\n"
     ]
    }
   ],
   "source": [
    "import requests as r\n",
    "\n",
    "name = \"aws-sdk-cpp\"\n",
    "version = \"1.11.117\"\n",
    "\n",
    "list = r.get(BASE+SOFTWARE_LIST)\n",
    "print(list.text)\n",
    "versions=r.get(f\"{BASE}{SOFTWARE_VERSIONS}?name={name}\")\n",
    "print(versions.text)\n",
    "dependencies=r.get(f\"{BASE}{SOFTWARE_DEPENDENCIES}?name={name}&version={version}\")\n",
    "print(dependencies.text)\n",
    "vulns = r.get(f\"{BASE}{SOFTWARE_VULNERABILITES}?name={name}&version={version}\")\n",
    "print(vulns.text)\n",
    "sbom = r.post(BASE+SOFTWARE_SBOM, json= {\n",
    "    \"name\": name, \"version\": version\n",
    "})\n",
    "print(sbom.text)"
   ]
  },
  {
   "cell_type": "code",
   "execution_count": null,
   "metadata": {},
   "outputs": [],
   "source": [
    "list = r.get(BASE+SOFTWARE_LIST)\n",
    "\n",
    "versions=r.get(f\"{BASE}{SOFTWARE_VERSIONS}?name={name}\")\n",
    "\n",
    "dependencies=r.get(f\"{BASE}{SOFTWARE_DEPENDENCIES}?name={name}&version={version}\")\n",
    "\n",
    "vulns = r.get(f\"{BASE}{SOFTWARE_VULNERABILITES}?name={name}&version={version}\")\n",
    "\n",
    "sbom = r.post(BASE+SOFTWARE_SBOM, json= {\n",
    "    \"name\": name, \"version\": version\n",
    "})\n"
   ]
  },
  {
   "cell_type": "code",
   "execution_count": 19,
   "metadata": {},
   "outputs": [],
   "source": [
    "%%capture\n",
    "%pip install google-generativeai\n",
    "%pip install -U instructor"
   ]
  },
  {
   "cell_type": "code",
   "execution_count": 24,
   "metadata": {},
   "outputs": [
    {
     "name": "stdout",
     "output_type": "stream",
     "text": [
      "{\n",
      "  \"name\": \"aws-sdk-cpp\",\n",
      "  \"version\": \"unspecified\",\n",
      "  \"intent\": {\n",
      "    \"chain_of_thought\": \"The question asks about vulnerabilities in a specific software, aws-sdk-cpp.  This falls under the category of SOFTWARE_VULNERABILITES.\",\n",
      "    \"label\": \"SOFTWARE_VULNERABILITES\"\n",
      "  }\n",
      "}\n"
     ]
    }
   ],
   "source": [
    "# Setup lib\n",
    "import instructor\n",
    "from pydantic import BaseModel, Field\n",
    "from openai import OpenAI\n",
    "import google.generativeai as genai\n",
    "from typing import Literal\n",
    "\n",
    "from dotenv import load_dotenv\n",
    "load_dotenv()\n",
    "\n",
    "# Define User intent enum\n",
    "class ClassificationResponse(BaseModel):\n",
    "    \"\"\"\n",
    "    A few-shot example of text classification:\n",
    "\n",
    "    Examples:\n",
    "    - \"Get me the list of software!\": SOFTWARE_LIST\n",
    "    - \"What are the versions for this software\": SOFTWARE_VERSIONS\n",
    "    - \"What are libraries are used for aws-sdk\": SOFTWARE_DEPENDENCIES\n",
    "    - \"List the vulnerabilities in linux?\": SOFTWARE_VULNERABILITES\n",
    "    - \"Generate the SBOM for whisper\": SOFTWARE_SBOM\n",
    "    - \"Write me a haiku\": UNKNOWN\n",
    "    \"\"\"\n",
    "\n",
    "    chain_of_thought: str = Field(\n",
    "        ...,\n",
    "        description=\"The chain of thought that led to the prediction.\",\n",
    "    )\n",
    "    label: Literal[\"SOFTWARE_LIST\", \"SOFTWARE_VERSIONS\", \"SOFTWARE_DEPENDENCIES\",\n",
    "                    \"SOFTWARE_VULNERABILITES\", \"SOFTWARE_SBOM\", \"UNKNOWN\"] = Field(\n",
    "        ...,\n",
    "        description=\"The predicted class label.\",\n",
    "    )\n",
    "\n",
    "# Define output\n",
    "class Software(BaseModel):\n",
    "    name: str\n",
    "    version: str\n",
    "    intent: ClassificationResponse\n",
    "\n",
    "ollama_setup = OpenAI(base_url=\"http://localhost:11434/v1\", api_key=\"ollama\")\n",
    "gemini_setup = OpenAI(base_url=\"https://generativelanguage.googleapis.com/v1beta/\", api_key=os.getenv(\"GOOGLE_API_KEY\"))\n",
    "client = instructor.from_openai(\n",
    "    gemini_setup,\n",
    "    mode=instructor.Mode.JSON,\n",
    ")\n",
    "\n",
    "\n",
    "query = \"What are the vulnerabilities in aws-sdk-cpp?\"\n",
    "resp = client.chat.completions.create(\n",
    "    # model=\"llama3.2\",\n",
    "    model=\"gemini-1.5-flash\",\n",
    "    n=1,\n",
    "    messages=[\n",
    "        {\n",
    "            \"role\": \"user\",\n",
    "            \"content\": query,\n",
    "        }\n",
    "    ],\n",
    "    response_model=Software,\n",
    ")\n",
    "print(resp.model_dump_json(indent=2))\n"
   ]
  },
  {
   "cell_type": "code",
   "execution_count": 27,
   "metadata": {},
   "outputs": [
    {
     "name": "stdout",
     "output_type": "stream",
     "text": [
      "name='openai' version='unknown' intent=ClassificationResponse(chain_of_thought='The question asks for versions of openai.  OpenAI does not have publicly listed version numbers in the same way that software packages do.  Their models and APIs are updated continuously.', label='UNKNOWN')\n",
      "name='aws-sdk-cpp' version='2.2.20' intent=ClassificationResponse(chain_of_thought='The user is asking for known vulnerabilities in a specific version of the aws-sdk-cpp. This falls under the category of SOFTWARE_VULNERABILITES.', label='SOFTWARE_VULNERABILITES')\n",
      "name='instructor' version='v1.1.100' intent=ClassificationResponse(chain_of_thought='The user is requesting an SBOM, which is a Software Bill of Materials.  This is directly related to software composition analysis and identifying the components of a piece of software. Therefore, the intent is to generate an SBOM.', label='SOFTWARE_SBOM')\n"
     ]
    }
   ],
   "source": [
    "queries = [\n",
    "    \"What versions of openai exists?\",\n",
    "    \"What are the known vulnerabilities in version 2.2.20 of aws-sdk-cpp?\",\n",
    "    \"Generate an SBOM for instructor v1.1.100\"\n",
    "]\n",
    "\n",
    "def user_intent(query):\n",
    "    resp = client.chat.completions.create(\n",
    "    # model=\"llama3.2\",\n",
    "    model=\"gemini-1.5-flash\",\n",
    "    n=1,\n",
    "    messages=[\n",
    "        {\n",
    "            \"role\": \"user\",\n",
    "            \"content\": query,\n",
    "        }\n",
    "    ],\n",
    "    response_model=Software,\n",
    "    )\n",
    "\n",
    "    return resp\n",
    "\n",
    "for query in queries:\n",
    "    intent = user_intent(query)\n",
    "    print(intent)"
   ]
  }
 ],
 "metadata": {
  "kernelspec": {
   "display_name": ".venv",
   "language": "python",
   "name": "python3"
  },
  "language_info": {
   "codemirror_mode": {
    "name": "ipython",
    "version": 3
   },
   "file_extension": ".py",
   "mimetype": "text/x-python",
   "name": "python",
   "nbconvert_exporter": "python",
   "pygments_lexer": "ipython3",
   "version": "3.11.7"
  }
 },
 "nbformat": 4,
 "nbformat_minor": 2
}
