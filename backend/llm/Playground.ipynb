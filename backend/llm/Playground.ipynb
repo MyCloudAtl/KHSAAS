{
 "cells": [
  {
   "cell_type": "code",
   "execution_count": 4,
   "metadata": {},
   "outputs": [
    {
     "name": "stdout",
     "output_type": "stream",
     "text": [
      "requests==2.32.3\n",
      "requests-toolbelt==1.0.0\n"
     ]
    }
   ],
   "source": [
    "!pip freeze | grep requests"
   ]
  },
  {
   "cell_type": "code",
   "execution_count": 5,
   "metadata": {},
   "outputs": [],
   "source": [
    "BASE = \"http://localhost:5055\"\n",
    "\n",
    "SOFTWARE_LIST= \"/api/softwares\"\n",
    "SOFTWARE_VERSIONS = \"/get_versions\"\n",
    "SOFTWARE_DEPENDENCIES=\"/api/dependencies\" #Params: name, version\n",
    "SOFTWARE_SBOM=\"/api/sbom\" #POST: name, version\n",
    "SOFTWARE_VULNERABILITES=\"/api/vulnerabilities\"\n"
   ]
  },
  {
   "cell_type": "code",
   "execution_count": null,
   "metadata": {},
   "outputs": [],
   "source": [
    "import requests as r\n",
    "\n",
    "name = \"aws-sdk-cpp\"\n",
    "version = \"1.11.117\"\n",
    "\n",
    "list = r.get(BASE+SOFTWARE_LIST)\n",
    "print(list.text)\n",
    "versions=r.get(f\"{BASE}{SOFTWARE_VERSIONS}?name={name}\")\n",
    "print(versions.text)\n",
    "dependencies=r.get(f\"{BASE}{SOFTWARE_DEPENDENCIES}?name={name}&version={version}\")\n",
    "print(dependencies.text)\n",
    "vulns = r.get(f\"{BASE}{SOFTWARE_VULNERABILITES}?name={name}&version={version}\")\n",
    "print(vulns.text)\n",
    "sbom = r.post(BASE+SOFTWARE_SBOM, json= {\n",
    "    \"name\": name, \"version\": version\n",
    "})\n",
    "print(sbom.text)"
   ]
  },
  {
   "cell_type": "code",
   "execution_count": 8,
   "metadata": {},
   "outputs": [
    {
     "ename": "NameError",
     "evalue": "name 'name' is not defined",
     "output_type": "error",
     "traceback": [
      "\u001b[0;31m---------------------------------------------------------------------------\u001b[0m",
      "\u001b[0;31mNameError\u001b[0m                                 Traceback (most recent call last)",
      "Cell \u001b[0;32mIn[8], line 4\u001b[0m\n\u001b[1;32m      1\u001b[0m \u001b[38;5;28;01mimport\u001b[39;00m \u001b[38;5;21;01mrequests\u001b[39;00m \u001b[38;5;28;01mas\u001b[39;00m \u001b[38;5;21;01mr\u001b[39;00m\n\u001b[1;32m      2\u001b[0m \u001b[38;5;28mlist\u001b[39m \u001b[38;5;241m=\u001b[39m r\u001b[38;5;241m.\u001b[39mget(BASE\u001b[38;5;241m+\u001b[39mSOFTWARE_LIST)\n\u001b[0;32m----> 4\u001b[0m versions\u001b[38;5;241m=\u001b[39mr\u001b[38;5;241m.\u001b[39mget(\u001b[38;5;124mf\u001b[39m\u001b[38;5;124m\"\u001b[39m\u001b[38;5;132;01m{\u001b[39;00mBASE\u001b[38;5;132;01m}\u001b[39;00m\u001b[38;5;132;01m{\u001b[39;00mSOFTWARE_VERSIONS\u001b[38;5;132;01m}\u001b[39;00m\u001b[38;5;124m?name=\u001b[39m\u001b[38;5;132;01m{\u001b[39;00m\u001b[43mname\u001b[49m\u001b[38;5;132;01m}\u001b[39;00m\u001b[38;5;124m\"\u001b[39m)\n\u001b[1;32m      6\u001b[0m dependencies\u001b[38;5;241m=\u001b[39mr\u001b[38;5;241m.\u001b[39mget(\u001b[38;5;124mf\u001b[39m\u001b[38;5;124m\"\u001b[39m\u001b[38;5;132;01m{\u001b[39;00mBASE\u001b[38;5;132;01m}\u001b[39;00m\u001b[38;5;132;01m{\u001b[39;00mSOFTWARE_DEPENDENCIES\u001b[38;5;132;01m}\u001b[39;00m\u001b[38;5;124m?name=\u001b[39m\u001b[38;5;132;01m{\u001b[39;00mname\u001b[38;5;132;01m}\u001b[39;00m\u001b[38;5;124m&version=\u001b[39m\u001b[38;5;132;01m{\u001b[39;00mversion\u001b[38;5;132;01m}\u001b[39;00m\u001b[38;5;124m\"\u001b[39m)\n\u001b[1;32m      8\u001b[0m vulns \u001b[38;5;241m=\u001b[39m r\u001b[38;5;241m.\u001b[39mget(\u001b[38;5;124mf\u001b[39m\u001b[38;5;124m\"\u001b[39m\u001b[38;5;132;01m{\u001b[39;00mBASE\u001b[38;5;132;01m}\u001b[39;00m\u001b[38;5;132;01m{\u001b[39;00mSOFTWARE_VULNERABILITES\u001b[38;5;132;01m}\u001b[39;00m\u001b[38;5;124m?name=\u001b[39m\u001b[38;5;132;01m{\u001b[39;00mname\u001b[38;5;132;01m}\u001b[39;00m\u001b[38;5;124m&version=\u001b[39m\u001b[38;5;132;01m{\u001b[39;00mversion\u001b[38;5;132;01m}\u001b[39;00m\u001b[38;5;124m\"\u001b[39m)\n",
      "\u001b[0;31mNameError\u001b[0m: name 'name' is not defined"
     ]
    }
   ],
   "source": [
    "import requests as r\n",
    "list = r.get(BASE+SOFTWARE_LIST)\n",
    "\n",
    "versions=r.get(f\"{BASE}{SOFTWARE_VERSIONS}?name={name}\")\n",
    "\n",
    "dependencies=r.get(f\"{BASE}{SOFTWARE_DEPENDENCIES}?name={name}&version={version}\")\n",
    "\n",
    "vulns = r.get(f\"{BASE}{SOFTWARE_VULNERABILITES}?name={name}&version={version}\")\n",
    "\n",
    "sbom = r.post(BASE+SOFTWARE_SBOM, json= {\n",
    "    \"name\": name, \"version\": version\n",
    "})\n"
   ]
  },
  {
   "cell_type": "code",
   "execution_count": 19,
   "metadata": {},
   "outputs": [],
   "source": [
    "%%capture\n",
    "%pip install google-generativeai\n",
    "%pip install -U instructor"
   ]
  },
  {
   "cell_type": "code",
   "execution_count": 9,
   "metadata": {},
   "outputs": [
    {
     "name": "stderr",
     "output_type": "stream",
     "text": [
      "/Users/iolanigan/github/KHSAAS/.venv/lib/python3.11/site-packages/tqdm/auto.py:21: TqdmWarning: IProgress not found. Please update jupyter and ipywidgets. See https://ipywidgets.readthedocs.io/en/stable/user_install.html\n",
      "  from .autonotebook import tqdm as notebook_tqdm\n"
     ]
    },
    {
     "name": "stdout",
     "output_type": "stream",
     "text": [
      "{\n",
      "  \"name\": \"aws-sdk-cpp\",\n",
      "  \"version\": \"unknown\",\n",
      "  \"intent\": {\n",
      "    \"chain_of_thought\": \"The question asks about vulnerabilities in a specific software (aws-sdk-cpp).  Therefore, it falls under the SOFTWARE_VULNERABILITES category.\",\n",
      "    \"label\": \"SOFTWARE_VULNERABILITES\"\n",
      "  }\n",
      "}\n"
     ]
    }
   ],
   "source": [
    "# Setup lib\n",
    "import instructor\n",
    "from pydantic import BaseModel, Field\n",
    "from openai import OpenAI\n",
    "import google.generativeai as genai\n",
    "from typing import Literal\n",
    "\n",
    "from dotenv import load_dotenv\n",
    "load_dotenv()\n",
    "import os\n",
    "\n",
    "# Define User intent enum\n",
    "class ClassificationResponse(BaseModel):\n",
    "    \"\"\"\n",
    "    A few-shot example of text classification:\n",
    "\n",
    "    Examples:\n",
    "    - \"Get me the list of software!\": SOFTWARE_LIST\n",
    "    - \"What are the versions for this software\": SOFTWARE_VERSIONS\n",
    "    - \"What are libraries are used for aws-sdk\": SOFTWARE_DEPENDENCIES\n",
    "    - \"List the vulnerabilities in linux?\": SOFTWARE_VULNERABILITES\n",
    "    - \"Generate the SBOM for whisper\": SOFTWARE_SBOM\n",
    "    - \"Write me a haiku\": UNKNOWN\n",
    "    \"\"\"\n",
    "\n",
    "    chain_of_thought: str = Field(\n",
    "        ...,\n",
    "        description=\"The chain of thought that led to the prediction.\",\n",
    "    )\n",
    "    label: Literal[\"SOFTWARE_LIST\", \"SOFTWARE_VERSIONS\", \"SOFTWARE_DEPENDENCIES\",\n",
    "                    \"SOFTWARE_VULNERABILITES\", \"SOFTWARE_SBOM\", \"UNKNOWN\"] = Field(\n",
    "        ...,\n",
    "        description=\"The predicted class label.\",\n",
    "    )\n",
    "\n",
    "# Define output\n",
    "class Software(BaseModel):\n",
    "    name: str\n",
    "    version: str\n",
    "    intent: ClassificationResponse\n",
    "\n",
    "ollama_setup = OpenAI(base_url=\"http://localhost:11434/v1\", api_key=\"ollama\")\n",
    "gemini_setup = OpenAI(base_url=\"https://generativelanguage.googleapis.com/v1beta/\", api_key=os.getenv(\"GOOGLE_API_KEY\"))\n",
    "client = instructor.from_openai(\n",
    "    gemini_setup,\n",
    "    mode=instructor.Mode.JSON,\n",
    ")\n",
    "\n",
    "\n",
    "query = \"What are the vulnerabilities in aws-sdk-cpp?\"\n",
    "resp = client.chat.completions.create(\n",
    "    # model=\"llama3.2\",\n",
    "    model=\"gemini-1.5-flash\",\n",
    "    n=1,\n",
    "    messages=[\n",
    "        {\n",
    "            \"role\": \"user\",\n",
    "            \"content\": query,\n",
    "        }\n",
    "    ],\n",
    "    response_model=Software,\n",
    ")\n",
    "print(resp.model_dump_json(indent=2))\n"
   ]
  },
  {
   "cell_type": "code",
   "execution_count": 10,
   "metadata": {},
   "outputs": [
    {
     "name": "stdout",
     "output_type": "stream",
     "text": [
      "name='openai' version='unknown' intent=ClassificationResponse(chain_of_thought=\"The question asks for versions of openai.  There is no single, publicly available list of all OpenAI versions. OpenAI releases are not usually versioned in a way that's easily tracked by the public like some other software projects.  They evolve through continuous updates and internal model revisions.\", label='SOFTWARE_VERSIONS')\n",
      "name='aws-sdk-cpp' version='2.2.20' intent=ClassificationResponse(chain_of_thought='The query asks about known vulnerabilities in a specific version of aws-sdk-cpp.  This falls under the category of SOFTWARE_VULNERABILITES.', label='SOFTWARE_VULNERABILITES')\n",
      "name='instructor' version='v1.1.100' intent=ClassificationResponse(chain_of_thought=\"The user is requesting an SBOM for the software 'instructor' version 'v1.1.100'.  Therefore, the intent is to generate a Software Bill of Materials.\", label='SOFTWARE_SBOM')\n"
     ]
    }
   ],
   "source": [
    "queries = [\n",
    "    \"What versions of openai exists?\",\n",
    "    \"What are the known vulnerabilities in version 2.2.20 of aws-sdk-cpp?\",\n",
    "    \"Generate an SBOM for instructor v1.1.100\"\n",
    "]\n",
    "\n",
    "def user_intent(query):\n",
    "    resp = client.chat.completions.create(\n",
    "    # model=\"llama3.2\",\n",
    "    model=\"gemini-1.5-flash\",\n",
    "    n=1,\n",
    "    messages=[\n",
    "        {\n",
    "            \"role\": \"user\",\n",
    "            \"content\": query,\n",
    "        }\n",
    "    ],\n",
    "    response_model=Software,\n",
    "    )\n",
    "\n",
    "    return resp\n",
    "\n",
    "for query in queries:\n",
    "    intent = user_intent(query)\n",
    "    print(intent)"
   ]
  },
  {
   "cell_type": "code",
   "execution_count": 16,
   "metadata": {},
   "outputs": [
    {
     "name": "stdout",
     "output_type": "stream",
     "text": [
      "Name:aws-sdk-cpp\n",
      "Version:2.2.20\n",
      "Intent:SOFTWARE_VULNERABILITES\n"
     ]
    }
   ],
   "source": [
    "from intent import user_intent, handle_intent\n",
    "res = user_intent(queries[1])\n",
    "print(f\"Name:{res.name}\\nVersion:{res.version}\\nIntent:{res.intent.label}\")\n",
    "# handle_intent(queries[1])"
   ]
  },
  {
   "cell_type": "code",
   "execution_count": 17,
   "metadata": {},
   "outputs": [],
   "source": [
    "response = user_intent(query)\n",
    "name = response.name\n",
    "version = response.version\n",
    "# print(f\"Name:{name}\\nVersion:{res.version}\\nIntent:{res.intent.label}\")"
   ]
  },
  {
   "cell_type": "code",
   "execution_count": 2,
   "metadata": {},
   "outputs": [
    {
     "name": "stdout",
     "output_type": "stream",
     "text": [
      "name='aws-sdk-cpp' version='1.0.16' intent=Classification(chain_of_thought='The input mentions generating an SBOM for aws-sdk-cpp.  SBOM generation is related to software composition analysis and identifying dependencies. Therefore, the intent is to request a Software Bill of Materials.', label='SOFTWARE_SBOM')\n"
     ]
    },
    {
     "data": {
      "text/plain": [
       "'{\"software\": \"aws-sdk-cpp\", \"version\": \"1.0.16\", \"dependencies\": [], \"vulnerabilities\": [], \"enrichedData\": {\"relations\": []}}'"
      ]
     },
     "execution_count": 2,
     "metadata": {},
     "output_type": "execute_result"
    }
   ],
   "source": [
    "from intent import handle_intent\n",
    "# query = \"What are the vulnerabilities in aws-sdk-cpp?\"\n",
    "query=\"Generate SBOM for aws-sdk-cpp 1.0.16\"\n",
    "handle_intent(query)"
   ]
  },
  {
   "cell_type": "code",
   "execution_count": 18,
   "metadata": {},
   "outputs": [
    {
     "name": "stdout",
     "output_type": "stream",
     "text": [
      "Name:instructor\n",
      "Version:v1.1.100\n",
      "Intent:SOFTWARE_SBOM\n"
     ]
    }
   ],
   "source": [
    "print(f\"Name:{name}\\nVersion:{version}\\nIntent:{response.intent.label}\")"
   ]
  },
  {
   "cell_type": "code",
   "execution_count": 10,
   "metadata": {},
   "outputs": [
    {
     "data": {
      "text/plain": [
       "<Response [500]>"
      ]
     },
     "execution_count": 10,
     "metadata": {},
     "output_type": "execute_result"
    }
   ],
   "source": [
    "CHAT_URL = BASE + \"/api/chat\"\n",
    "chat = r.post(CHAT_URL, json= {\n",
    "    \"query\": queries[0]\n",
    "})\n",
    "chat"
   ]
  },
  {
   "cell_type": "code",
   "execution_count": null,
   "metadata": {},
   "outputs": [],
   "source": []
  }
 ],
 "metadata": {
  "kernelspec": {
   "display_name": ".venv",
   "language": "python",
   "name": "python3"
  },
  "language_info": {
   "codemirror_mode": {
    "name": "ipython",
    "version": 3
   },
   "file_extension": ".py",
   "mimetype": "text/x-python",
   "name": "python",
   "nbconvert_exporter": "python",
   "pygments_lexer": "ipython3",
   "version": "3.11.7"
  }
 },
 "nbformat": 4,
 "nbformat_minor": 2
}
